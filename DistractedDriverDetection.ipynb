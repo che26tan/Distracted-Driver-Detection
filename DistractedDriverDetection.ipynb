{
 "cells": [
  {
   "cell_type": "code",
   "execution_count": 1,
   "metadata": {
    "collapsed": true,
    "ExecuteTime": {
     "end_time": "2023-11-27T21:05:54.276786200Z",
     "start_time": "2023-11-27T21:05:50.219584400Z"
    }
   },
   "outputs": [],
   "source": [
    "import numpy as np\n",
    "import tensorflow as tf\n",
    "from keras.preprocessing.image import ImageDataGenerator\n",
    "from keras.optimizers import Adam\n",
    "from keras.callbacks import EarlyStopping"
   ]
  },
  {
   "cell_type": "code",
   "execution_count": 2,
   "outputs": [],
   "source": [
    "train_dir = r\"E:\\imgs\\train\"\n",
    "test_dir = r\"E:\\imgs\\test\""
   ],
   "metadata": {
    "collapsed": false,
    "ExecuteTime": {
     "end_time": "2023-11-27T21:05:55.319119400Z",
     "start_time": "2023-11-27T21:05:55.313103600Z"
    }
   }
  },
  {
   "cell_type": "code",
   "execution_count": 3,
   "outputs": [
    {
     "name": "stdout",
     "output_type": "stream",
     "text": [
      "Found 22424 images belonging to 10 classes.\n",
      "Found 22424 images belonging to 10 classes.\n",
      "Found 79726 images belonging to 1 classes.\n"
     ]
    }
   ],
   "source": [
    "train_datagen = ImageDataGenerator(\n",
    "      rescale = 1./255\n",
    ")\n",
    "\n",
    "test_datagen = ImageDataGenerator(rescale = 1./255)\n",
    "\n",
    "train_generator = train_datagen.flow_from_directory(\n",
    "\ttrain_dir,\n",
    "\ttarget_size=(32,32),\n",
    "\tclass_mode='categorical',\n",
    "    batch_size=100,\n",
    "    color_mode='grayscale',\n",
    "    subset='training'\n",
    "\n",
    ")\n",
    "\n",
    "validation_generator = train_datagen.flow_from_directory(\n",
    "\ttrain_dir,\n",
    "\ttarget_size=(32,32),\n",
    "\tclass_mode='categorical',\n",
    "    batch_size=100,\n",
    "    color_mode='grayscale'\n",
    ")\n",
    "\n",
    "test_generator = test_datagen.flow_from_directory(\n",
    "\ttest_dir,\n",
    "\ttarget_size=(32,32),\n",
    "\tclass_mode='categorical',\n",
    "    batch_size=100,\n",
    "    color_mode='grayscale'\n",
    ")"
   ],
   "metadata": {
    "collapsed": false,
    "ExecuteTime": {
     "end_time": "2023-11-27T21:06:03.621207300Z",
     "start_time": "2023-11-27T21:06:01.103546500Z"
    }
   }
  },
  {
   "cell_type": "code",
   "execution_count": 4,
   "outputs": [
    {
     "name": "stdout",
     "output_type": "stream",
     "text": [
      "Model: \"sequential\"\n",
      "_________________________________________________________________\n",
      " Layer (type)                Output Shape              Param #   \n",
      "=================================================================\n",
      " conv2d (Conv2D)             (None, 30, 30, 64)        640       \n",
      "                                                                 \n",
      " conv2d_1 (Conv2D)           (None, 28, 28, 64)        36928     \n",
      "                                                                 \n",
      " max_pooling2d (MaxPooling2  (None, 14, 14, 64)        0         \n",
      " D)                                                              \n",
      "                                                                 \n",
      " conv2d_2 (Conv2D)           (None, 12, 12, 128)       73856     \n",
      "                                                                 \n",
      " conv2d_3 (Conv2D)           (None, 10, 10, 128)       147584    \n",
      "                                                                 \n",
      " max_pooling2d_1 (MaxPoolin  (None, 5, 5, 128)         0         \n",
      " g2D)                                                            \n",
      "                                                                 \n",
      " flatten (Flatten)           (None, 3200)              0         \n",
      "                                                                 \n",
      " dropout (Dropout)           (None, 3200)              0         \n",
      "                                                                 \n",
      " dense (Dense)               (None, 256)               819456    \n",
      "                                                                 \n",
      " dense_1 (Dense)             (None, 10)                2570      \n",
      "                                                                 \n",
      "=================================================================\n",
      "Total params: 1081034 (4.12 MB)\n",
      "Trainable params: 1081034 (4.12 MB)\n",
      "Non-trainable params: 0 (0.00 Byte)\n",
      "_________________________________________________________________\n"
     ]
    }
   ],
   "source": [
    "model = tf.keras.models.Sequential([\n",
    "    tf.keras.layers.Conv2D(64, (3,3), activation='relu', input_shape=(32,32,1)),\n",
    "    tf.keras.layers.Conv2D(64, (3,3), activation='relu'),\n",
    "    tf.keras.layers.MaxPooling2D(2,2),\n",
    "    tf.keras.layers.Conv2D(128, (3,3), activation='relu'),\n",
    "    tf.keras.layers.Conv2D(128, (3,3), activation='relu'),\n",
    "    tf.keras.layers.MaxPooling2D(2,2),\n",
    "    tf.keras.layers.Flatten(),\n",
    "    tf.keras.layers.Dropout(0.2),\n",
    "    tf.keras.layers.Dense(256, activation='relu'),\n",
    "    tf.keras.layers.Dense(10, activation='softmax')\n",
    "])\n",
    "\n",
    "model.summary()"
   ],
   "metadata": {
    "collapsed": false,
    "ExecuteTime": {
     "end_time": "2023-11-27T21:06:04.628931600Z",
     "start_time": "2023-11-27T21:06:04.295469Z"
    }
   }
  },
  {
   "cell_type": "code",
   "execution_count": 5,
   "outputs": [],
   "source": [
    "model.compile( optimizer= Adam(learning_rate=0.0001), loss = \"categorical_crossentropy\", metrics=['accuracy'])"
   ],
   "metadata": {
    "collapsed": false,
    "ExecuteTime": {
     "end_time": "2023-11-27T21:06:06.103784500Z",
     "start_time": "2023-11-27T21:06:06.064752100Z"
    }
   }
  },
  {
   "cell_type": "code",
   "execution_count": 6,
   "outputs": [],
   "source": [
    "es = EarlyStopping(\n",
    "                    monitor='loss',\n",
    "                    patience=2,\n",
    "                    min_delta=0.01\n",
    "                   )"
   ],
   "metadata": {
    "collapsed": false,
    "ExecuteTime": {
     "end_time": "2023-11-27T21:06:09.518825600Z",
     "start_time": "2023-11-27T21:06:09.512719800Z"
    }
   }
  },
  {
   "cell_type": "code",
   "execution_count": 7,
   "outputs": [
    {
     "name": "stdout",
     "output_type": "stream",
     "text": [
      "Epoch 1/50\n",
      "128/128 [==============================] - 64s 490ms/step - loss: 2.1555 - accuracy: 0.2068 - val_loss: 1.7592 - val_accuracy: 0.3567\n",
      "Epoch 2/50\n",
      "128/128 [==============================] - 55s 431ms/step - loss: 1.4411 - accuracy: 0.5020 - val_loss: 1.1066 - val_accuracy: 0.6433\n",
      "Epoch 3/50\n",
      "128/128 [==============================] - 56s 439ms/step - loss: 0.9171 - accuracy: 0.6994 - val_loss: 0.6303 - val_accuracy: 0.8267\n",
      "Epoch 4/50\n",
      "128/128 [==============================] - 57s 448ms/step - loss: 0.6216 - accuracy: 0.8073 - val_loss: 0.5061 - val_accuracy: 0.8600\n",
      "Epoch 5/50\n",
      "128/128 [==============================] - 47s 369ms/step - loss: 0.4695 - accuracy: 0.8592 - val_loss: 0.2808 - val_accuracy: 0.9200\n",
      "Epoch 6/50\n",
      "128/128 [==============================] - 49s 385ms/step - loss: 0.3659 - accuracy: 0.8909 - val_loss: 0.2062 - val_accuracy: 0.9433\n",
      "Epoch 7/50\n",
      "128/128 [==============================] - 46s 362ms/step - loss: 0.3042 - accuracy: 0.9095 - val_loss: 0.2405 - val_accuracy: 0.9300\n",
      "Epoch 8/50\n",
      "128/128 [==============================] - 53s 414ms/step - loss: 0.2431 - accuracy: 0.9262 - val_loss: 0.1695 - val_accuracy: 0.9467\n",
      "Epoch 9/50\n",
      "128/128 [==============================] - 52s 404ms/step - loss: 0.2175 - accuracy: 0.9372 - val_loss: 0.1442 - val_accuracy: 0.9633\n",
      "Epoch 10/50\n",
      "128/128 [==============================] - 52s 408ms/step - loss: 0.1894 - accuracy: 0.9459 - val_loss: 0.0710 - val_accuracy: 0.9867\n",
      "Epoch 11/50\n",
      "128/128 [==============================] - 45s 348ms/step - loss: 0.1646 - accuracy: 0.9511 - val_loss: 0.0868 - val_accuracy: 0.9867\n",
      "Epoch 12/50\n",
      "128/128 [==============================] - 42s 330ms/step - loss: 0.1538 - accuracy: 0.9555 - val_loss: 0.0680 - val_accuracy: 0.9833\n",
      "Epoch 13/50\n",
      "128/128 [==============================] - 43s 333ms/step - loss: 0.1341 - accuracy: 0.9596 - val_loss: 0.0648 - val_accuracy: 0.9900\n",
      "Epoch 14/50\n",
      "128/128 [==============================] - 45s 355ms/step - loss: 0.1159 - accuracy: 0.9673 - val_loss: 0.0577 - val_accuracy: 0.9867\n",
      "Epoch 15/50\n",
      "128/128 [==============================] - 49s 385ms/step - loss: 0.0989 - accuracy: 0.9716 - val_loss: 0.0322 - val_accuracy: 0.9933\n",
      "Epoch 16/50\n",
      "128/128 [==============================] - 45s 351ms/step - loss: 0.1002 - accuracy: 0.9695 - val_loss: 0.0195 - val_accuracy: 1.0000\n",
      "Epoch 17/50\n",
      "128/128 [==============================] - 44s 342ms/step - loss: 0.0819 - accuracy: 0.9766 - val_loss: 0.0264 - val_accuracy: 0.9933\n",
      "Epoch 18/50\n",
      "128/128 [==============================] - 43s 339ms/step - loss: 0.0860 - accuracy: 0.9748 - val_loss: 0.0377 - val_accuracy: 0.9867\n",
      "Epoch 19/50\n",
      "128/128 [==============================] - 44s 341ms/step - loss: 0.0648 - accuracy: 0.9808 - val_loss: 0.0625 - val_accuracy: 0.9900\n",
      "Epoch 20/50\n",
      "128/128 [==============================] - 44s 340ms/step - loss: 0.0659 - accuracy: 0.9787 - val_loss: 0.0398 - val_accuracy: 0.9900\n",
      "Epoch 21/50\n",
      "128/128 [==============================] - 44s 342ms/step - loss: 0.0572 - accuracy: 0.9840 - val_loss: 0.0283 - val_accuracy: 0.9933\n"
     ]
    },
    {
     "data": {
      "text/plain": "<keras.src.callbacks.History at 0x1e9ecac3b50>"
     },
     "execution_count": 7,
     "metadata": {},
     "output_type": "execute_result"
    }
   ],
   "source": [
    "model.fit(train_generator, epochs = 50, steps_per_epoch = 128, verbose = 1, validation_steps = 3, validation_data=validation_generator,  callbacks = [es])"
   ],
   "metadata": {
    "collapsed": false,
    "ExecuteTime": {
     "end_time": "2023-11-27T21:23:13.153461100Z",
     "start_time": "2023-11-27T21:06:11.484011900Z"
    }
   }
  },
  {
   "cell_type": "code",
   "execution_count": 8,
   "outputs": [
    {
     "name": "stdout",
     "output_type": "stream",
     "text": [
      "798/798 [==============================] - 269s 337ms/step\n"
     ]
    }
   ],
   "source": [
    "predictions = model.predict(test_generator)"
   ],
   "metadata": {
    "collapsed": false,
    "ExecuteTime": {
     "end_time": "2023-11-27T21:28:02.472852500Z",
     "start_time": "2023-11-27T21:23:32.795554600Z"
    }
   }
  },
  {
   "cell_type": "code",
   "execution_count": 9,
   "outputs": [],
   "source": [
    "prediction = np.argmax(predictions,axis=1)"
   ],
   "metadata": {
    "collapsed": false,
    "ExecuteTime": {
     "end_time": "2023-11-27T21:28:22.190858900Z",
     "start_time": "2023-11-27T21:28:22.183539Z"
    }
   }
  },
  {
   "cell_type": "code",
   "execution_count": 12,
   "outputs": [],
   "source": [
    "np.savetxt(\"prediction_one_hot_encoding.csv\", X=predictions, delimiter=\" \")"
   ],
   "metadata": {
    "collapsed": false,
    "ExecuteTime": {
     "end_time": "2023-11-27T23:12:54.386317900Z",
     "start_time": "2023-11-27T23:12:53.583428600Z"
    }
   }
  },
  {
   "cell_type": "code",
   "execution_count": 15,
   "outputs": [],
   "source": [
    "np.savetxt(\"prediction.csv\", X=prediction, fmt='%i')"
   ],
   "metadata": {
    "collapsed": false,
    "ExecuteTime": {
     "end_time": "2023-11-27T23:16:24.005264800Z",
     "start_time": "2023-11-27T23:16:23.900616200Z"
    }
   }
  }
 ],
 "metadata": {
  "kernelspec": {
   "display_name": "Python 3",
   "language": "python",
   "name": "python3"
  },
  "language_info": {
   "codemirror_mode": {
    "name": "ipython",
    "version": 2
   },
   "file_extension": ".py",
   "mimetype": "text/x-python",
   "name": "python",
   "nbconvert_exporter": "python",
   "pygments_lexer": "ipython2",
   "version": "2.7.6"
  }
 },
 "nbformat": 4,
 "nbformat_minor": 0
}
